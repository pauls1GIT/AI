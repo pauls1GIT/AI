{
 "cells": [
  {
   "cell_type": "markdown",
   "id": "ae7bce33",
   "metadata": {},
   "source": []
  },
  {
   "cell_type": "code",
   "execution_count": 5,
   "id": "42f3199d",
   "metadata": {},
   "outputs": [],
   "source": [
    "!pip install -qU \\\n",
    "    python-dotenv \\\n",
    "    langchain \\\n",
    "    langchain-community \\\n",
    "    openai \\\n",
    "    langchain-openai \\\n",
    "    langchain-google-genai"
   ]
  },
  {
   "cell_type": "code",
   "execution_count": 2,
   "id": "d54e8020",
   "metadata": {},
   "outputs": [
    {
     "data": {
      "text/plain": [
       "True"
      ]
     },
     "execution_count": 2,
     "metadata": {},
     "output_type": "execute_result"
    }
   ],
   "source": [
    "from dotenv import load_dotenv\n",
    "\n",
    "load_dotenv()"
   ]
  },
  {
   "cell_type": "code",
   "execution_count": 3,
   "id": "f6603686",
   "metadata": {},
   "outputs": [],
   "source": [
    "import fitz  # PyMuPDF\n",
    "import os"
   ]
  },
  {
   "cell_type": "code",
   "execution_count": 4,
   "id": "84c6748d",
   "metadata": {},
   "outputs": [
    {
     "name": "stdout",
     "output_type": "stream",
     "text": [
      "Saved d:\\Langchain\\page1_img1.png\n"
     ]
    }
   ],
   "source": [
    "\n",
    "\n",
    "pdf_path = \"W706408.pdf\" \n",
    "pdf_dir = os.path.dirname(os.path.abspath(pdf_path))  # Get the current folder path\n",
    "\n",
    "doc = fitz.open(pdf_path)\n",
    "\n",
    "for page_index in range(len(doc)): #extracting images for the pdf page by page\n",
    "    page = doc[page_index]\n",
    "    images = page.get_images(full=True)\n",
    "\n",
    "    for img_index, img in enumerate(images):\n",
    "        xref = img[0]\n",
    "        base_image = doc.extract_image(xref)\n",
    "        image_bytes = base_image[\"image\"]\n",
    "        image_ext = base_image[\"ext\"]\n",
    "        image_filename = f\"page{page_index+1}_img{img_index+1}.{image_ext}\"\n",
    "        \n",
    "        image_path = os.path.join(pdf_dir, image_filename)\n",
    "        with open(image_path, \"wb\") as f:\n",
    "            f.write(image_bytes)\n",
    "\n",
    "        print(f\"Saved {image_path}\")\n"
   ]
  },
  {
   "cell_type": "code",
   "execution_count": 5,
   "id": "00555dbb",
   "metadata": {},
   "outputs": [],
   "source": [
    "from pydantic import BaseModel, Field\n",
    "from typing import Optional, Literal\n",
    "\n",
    "class BoltFeatures(BaseModel):\n",
    "    part_name: Optional[str] = None\n",
    "    title: Optional[str] = None\n",
    "    diameter: Optional[str] = None  \n",
    "    length: Optional[str] = None    \n",
    "    thread_pitch: Optional[str] = None\n",
    "    head_type: Literal[\"hex\", \"socket\", \"button\", \"pan\", \"flat\", \"round\"] = Field()\n",
    "    drive_type: Literal[\"phillips\", \"hex\" ,\"slotted\", \"torx\", \"allen\", \"pozidriv\", \"square\", \"spanner\"] = Field()\n",
    "    material: Optional[str] = None\n",
    "    coating: Optional[str] = None\n",
    "    is_threaded_full: Optional[bool] = None\n",
    "\n",
    "\n"
   ]
  },
  {
   "cell_type": "code",
   "execution_count": null,
   "id": "474fbd65",
   "metadata": {},
   "outputs": [],
   "source": [
    "import base64"
   ]
  },
  {
   "cell_type": "code",
   "execution_count": 7,
   "id": "97e21fc8",
   "metadata": {},
   "outputs": [
    {
     "name": "stdout",
     "output_type": "stream",
     "text": [
      "part_name=None title=None diameter='ØD' length='T' thread_pitch=None head_type='flat' drive_type='hex' material=None coating=None is_threaded_full=None\n"
     ]
    }
   ],
   "source": [
    "from langchain_google_genai import ChatGoogleGenerativeAI\n",
    "from langchain_core.messages import HumanMessage\n",
    "\n",
    "llm = ChatGoogleGenerativeAI(model=\"gemini-2.0-flash\",temperature=0.0)\n",
    "\n",
    "# Load and encode image\n",
    "with open(\"102.jpg\", \"rb\") as image_file:\n",
    "    base64_image = base64.b64encode(image_file.read()).decode(\"utf-8\")\n",
    "\n",
    "# Define prompt\n",
    "prompt = \"\"\"\n",
    "You are an expert in mechanical drawing interpretation. Extract the following features from this technical drawing of a bolt.\n",
    "If the drawing uses labels instead of exact values, return those labels. In the process, please ignore /number/ format labels(e.g. /1/,/20/)\n",
    "Only return a valid JSON object.\n",
    "\"\"\"\n",
    "message = HumanMessage(\n",
    "    content=[\n",
    "        {\n",
    "            \"type\": \"text\",\n",
    "            \"text\": prompt,\n",
    "        },\n",
    "        {\n",
    "            \"type\": \"image_url\",\n",
    "            \"image_url\": {\n",
    "            \"url\": f\"data:image/jpeg;base64,{base64_image}\"\n",
    "                        }\n",
    "        }\n",
    "    ]\n",
    ")\n",
    "\n",
    "structured_llm=llm.with_structured_output(BoltFeatures)\n",
    "\n",
    "result = structured_llm.invoke([message])\n",
    "print(result)\n",
    "\n",
    "\n"
   ]
  }
 ],
 "metadata": {
  "kernelspec": {
   "display_name": "Python 3",
   "language": "python",
   "name": "python3"
  },
  "language_info": {
   "codemirror_mode": {
    "name": "ipython",
    "version": 3
   },
   "file_extension": ".py",
   "mimetype": "text/x-python",
   "name": "python",
   "nbconvert_exporter": "python",
   "pygments_lexer": "ipython3",
   "version": "3.10.11"
  }
 },
 "nbformat": 4,
 "nbformat_minor": 5
}
