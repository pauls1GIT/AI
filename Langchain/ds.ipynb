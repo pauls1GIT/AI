{
 "cells": [
  {
   "cell_type": "code",
   "execution_count": 1,
   "id": "b3ac87bf",
   "metadata": {
    "ExecuteTime": {
     "end_time": "2025-08-12T07:23:50.526876Z",
     "start_time": "2025-08-12T07:23:44.478059Z"
    }
   },
   "outputs": [],
   "source": [
    "import dspy"
   ]
  },
  {
   "cell_type": "code",
   "execution_count": 2,
   "id": "c9ac66cd251a048f",
   "metadata": {
    "ExecuteTime": {
     "end_time": "2025-08-12T07:24:00.676798Z",
     "start_time": "2025-08-12T07:23:50.556970Z"
    }
   },
   "outputs": [
    {
     "name": "stdout",
     "output_type": "stream",
     "text": [
      "Requirement already satisfied: dspy in c:\\users\\paulsavu\\appdata\\local\\programs\\python\\python310\\lib\\site-packages (2.6.27)\n",
      "Requirement already satisfied: backoff>=2.2 in c:\\users\\paulsavu\\appdata\\local\\programs\\python\\python310\\lib\\site-packages (from dspy) (2.2.1)\n",
      "Requirement already satisfied: joblib~=1.3 in c:\\users\\paulsavu\\appdata\\local\\programs\\python\\python310\\lib\\site-packages (from dspy) (1.5.1)\n",
      "Requirement already satisfied: openai>=0.28.1 in c:\\users\\paulsavu\\appdata\\local\\programs\\python\\python310\\lib\\site-packages (from dspy) (1.98.0)\n",
      "Requirement already satisfied: pandas>=2.1.1 in c:\\users\\paulsavu\\appdata\\local\\programs\\python\\python310\\lib\\site-packages (from dspy) (2.3.0)\n",
      "Requirement already satisfied: regex>=2023.10.3 in c:\\users\\paulsavu\\appdata\\local\\programs\\python\\python310\\lib\\site-packages (from dspy) (2024.11.6)\n",
      "Requirement already satisfied: ujson>=5.8.0 in c:\\users\\paulsavu\\appdata\\local\\programs\\python\\python310\\lib\\site-packages (from dspy) (5.10.0)\n",
      "Requirement already satisfied: tqdm>=4.66.1 in c:\\users\\paulsavu\\appdata\\local\\programs\\python\\python310\\lib\\site-packages (from dspy) (4.67.1)\n",
      "Requirement already satisfied: datasets>=2.14.6 in c:\\users\\paulsavu\\appdata\\local\\programs\\python\\python310\\lib\\site-packages (from dspy) (4.0.0)\n",
      "Requirement already satisfied: requests>=2.31.0 in c:\\users\\paulsavu\\appdata\\local\\programs\\python\\python310\\lib\\site-packages (from dspy) (2.32.4)\n",
      "Requirement already satisfied: optuna>=3.4.0 in c:\\users\\paulsavu\\appdata\\local\\programs\\python\\python310\\lib\\site-packages (from dspy) (4.4.0)\n",
      "Requirement already satisfied: pydantic>=2.0 in c:\\users\\paulsavu\\appdata\\local\\programs\\python\\python310\\lib\\site-packages (from dspy) (2.11.7)\n",
      "Requirement already satisfied: magicattr>=0.1.6 in c:\\users\\paulsavu\\appdata\\local\\programs\\python\\python310\\lib\\site-packages (from dspy) (0.1.6)\n",
      "Requirement already satisfied: litellm>=1.60.3 in c:\\users\\paulsavu\\appdata\\local\\programs\\python\\python310\\lib\\site-packages (from dspy) (1.74.15.post1)\n",
      "Requirement already satisfied: diskcache>=5.6.0 in c:\\users\\paulsavu\\appdata\\local\\programs\\python\\python310\\lib\\site-packages (from dspy) (5.6.3)\n",
      "Requirement already satisfied: json-repair>=0.30.0 in c:\\users\\paulsavu\\appdata\\local\\programs\\python\\python310\\lib\\site-packages (from dspy) (0.48.0)\n",
      "Requirement already satisfied: tenacity>=8.2.3 in c:\\users\\paulsavu\\appdata\\local\\programs\\python\\python310\\lib\\site-packages (from dspy) (9.1.2)\n",
      "Requirement already satisfied: anyio in c:\\users\\paulsavu\\appdata\\local\\programs\\python\\python310\\lib\\site-packages (from dspy) (4.9.0)\n",
      "Requirement already satisfied: asyncer==0.0.8 in c:\\users\\paulsavu\\appdata\\local\\programs\\python\\python310\\lib\\site-packages (from dspy) (0.0.8)\n",
      "Requirement already satisfied: cachetools>=5.5.0 in c:\\users\\paulsavu\\appdata\\local\\programs\\python\\python310\\lib\\site-packages (from dspy) (5.5.2)\n",
      "Requirement already satisfied: cloudpickle>=3.0.0 in c:\\users\\paulsavu\\appdata\\local\\programs\\python\\python310\\lib\\site-packages (from dspy) (3.1.1)\n",
      "Requirement already satisfied: rich>=13.7.1 in c:\\users\\paulsavu\\appdata\\local\\programs\\python\\python310\\lib\\site-packages (from dspy) (14.0.0)\n",
      "Requirement already satisfied: numpy>=1.26.0 in c:\\users\\paulsavu\\appdata\\local\\programs\\python\\python310\\lib\\site-packages (from dspy) (2.1.3)\n",
      "Requirement already satisfied: exceptiongroup>=1.0.2 in c:\\users\\paulsavu\\appdata\\roaming\\python\\python310\\site-packages (from anyio->dspy) (1.3.0)\n",
      "Requirement already satisfied: idna>=2.8 in c:\\users\\paulsavu\\appdata\\local\\programs\\python\\python310\\lib\\site-packages (from anyio->dspy) (3.10)\n",
      "Requirement already satisfied: sniffio>=1.1 in c:\\users\\paulsavu\\appdata\\local\\programs\\python\\python310\\lib\\site-packages (from anyio->dspy) (1.3.1)\n",
      "Requirement already satisfied: typing_extensions>=4.5 in c:\\users\\paulsavu\\appdata\\roaming\\python\\python310\\site-packages (from anyio->dspy) (4.14.0)\n",
      "Requirement already satisfied: filelock in c:\\users\\paulsavu\\appdata\\local\\programs\\python\\python310\\lib\\site-packages (from datasets>=2.14.6->dspy) (3.18.0)\n",
      "Requirement already satisfied: pyarrow>=15.0.0 in c:\\users\\paulsavu\\appdata\\local\\programs\\python\\python310\\lib\\site-packages (from datasets>=2.14.6->dspy) (21.0.0)\n",
      "Requirement already satisfied: dill<0.3.9,>=0.3.0 in c:\\users\\paulsavu\\appdata\\local\\programs\\python\\python310\\lib\\site-packages (from datasets>=2.14.6->dspy) (0.3.8)\n",
      "Requirement already satisfied: xxhash in c:\\users\\paulsavu\\appdata\\local\\programs\\python\\python310\\lib\\site-packages (from datasets>=2.14.6->dspy) (3.5.0)\n",
      "Requirement already satisfied: multiprocess<0.70.17 in c:\\users\\paulsavu\\appdata\\local\\programs\\python\\python310\\lib\\site-packages (from datasets>=2.14.6->dspy) (0.70.16)\n",
      "Requirement already satisfied: fsspec<=2025.3.0,>=2023.1.0 in c:\\users\\paulsavu\\appdata\\local\\programs\\python\\python310\\lib\\site-packages (from fsspec[http]<=2025.3.0,>=2023.1.0->datasets>=2.14.6->dspy) (2025.3.0)\n",
      "Requirement already satisfied: huggingface-hub>=0.24.0 in c:\\users\\paulsavu\\appdata\\local\\programs\\python\\python310\\lib\\site-packages (from datasets>=2.14.6->dspy) (0.33.4)\n",
      "Requirement already satisfied: packaging in c:\\users\\paulsavu\\appdata\\local\\programs\\python\\python310\\lib\\site-packages (from datasets>=2.14.6->dspy) (24.1)\n",
      "Requirement already satisfied: pyyaml>=5.1 in c:\\users\\paulsavu\\appdata\\local\\programs\\python\\python310\\lib\\site-packages (from datasets>=2.14.6->dspy) (6.0.2)\n",
      "Requirement already satisfied: aiohttp!=4.0.0a0,!=4.0.0a1 in c:\\users\\paulsavu\\appdata\\local\\programs\\python\\python310\\lib\\site-packages (from fsspec[http]<=2025.3.0,>=2023.1.0->datasets>=2.14.6->dspy) (3.12.13)\n",
      "Requirement already satisfied: aiohappyeyeballs>=2.5.0 in c:\\users\\paulsavu\\appdata\\local\\programs\\python\\python310\\lib\\site-packages (from aiohttp!=4.0.0a0,!=4.0.0a1->fsspec[http]<=2025.3.0,>=2023.1.0->datasets>=2.14.6->dspy) (2.6.1)\n",
      "Requirement already satisfied: aiosignal>=1.1.2 in c:\\users\\paulsavu\\appdata\\local\\programs\\python\\python310\\lib\\site-packages (from aiohttp!=4.0.0a0,!=4.0.0a1->fsspec[http]<=2025.3.0,>=2023.1.0->datasets>=2.14.6->dspy) (1.3.2)\n",
      "Requirement already satisfied: async-timeout<6.0,>=4.0 in c:\\users\\paulsavu\\appdata\\local\\programs\\python\\python310\\lib\\site-packages (from aiohttp!=4.0.0a0,!=4.0.0a1->fsspec[http]<=2025.3.0,>=2023.1.0->datasets>=2.14.6->dspy) (4.0.3)\n",
      "Requirement already satisfied: attrs>=17.3.0 in c:\\users\\paulsavu\\appdata\\local\\programs\\python\\python310\\lib\\site-packages (from aiohttp!=4.0.0a0,!=4.0.0a1->fsspec[http]<=2025.3.0,>=2023.1.0->datasets>=2.14.6->dspy) (25.3.0)\n",
      "Requirement already satisfied: frozenlist>=1.1.1 in c:\\users\\paulsavu\\appdata\\local\\programs\\python\\python310\\lib\\site-packages (from aiohttp!=4.0.0a0,!=4.0.0a1->fsspec[http]<=2025.3.0,>=2023.1.0->datasets>=2.14.6->dspy) (1.7.0)\n",
      "Requirement already satisfied: multidict<7.0,>=4.5 in c:\\users\\paulsavu\\appdata\\local\\programs\\python\\python310\\lib\\site-packages (from aiohttp!=4.0.0a0,!=4.0.0a1->fsspec[http]<=2025.3.0,>=2023.1.0->datasets>=2.14.6->dspy) (6.6.3)\n",
      "Requirement already satisfied: propcache>=0.2.0 in c:\\users\\paulsavu\\appdata\\local\\programs\\python\\python310\\lib\\site-packages (from aiohttp!=4.0.0a0,!=4.0.0a1->fsspec[http]<=2025.3.0,>=2023.1.0->datasets>=2.14.6->dspy) (0.3.2)\n",
      "Requirement already satisfied: yarl<2.0,>=1.17.0 in c:\\users\\paulsavu\\appdata\\local\\programs\\python\\python310\\lib\\site-packages (from aiohttp!=4.0.0a0,!=4.0.0a1->fsspec[http]<=2025.3.0,>=2023.1.0->datasets>=2.14.6->dspy) (1.20.1)\n",
      "Requirement already satisfied: click in c:\\users\\paulsavu\\appdata\\local\\programs\\python\\python310\\lib\\site-packages (from litellm>=1.60.3->dspy) (8.2.1)\n",
      "Requirement already satisfied: httpx>=0.23.0 in c:\\users\\paulsavu\\appdata\\local\\programs\\python\\python310\\lib\\site-packages (from litellm>=1.60.3->dspy) (0.28.1)\n",
      "Requirement already satisfied: importlib-metadata>=6.8.0 in c:\\users\\paulsavu\\appdata\\local\\programs\\python\\python310\\lib\\site-packages (from litellm>=1.60.3->dspy) (8.7.0)\n",
      "Requirement already satisfied: jinja2<4.0.0,>=3.1.2 in c:\\users\\paulsavu\\appdata\\local\\programs\\python\\python310\\lib\\site-packages (from litellm>=1.60.3->dspy) (3.1.6)\n",
      "Requirement already satisfied: jsonschema<5.0.0,>=4.22.0 in c:\\users\\paulsavu\\appdata\\local\\programs\\python\\python310\\lib\\site-packages (from litellm>=1.60.3->dspy) (4.24.0)\n",
      "Requirement already satisfied: python-dotenv>=0.2.0 in c:\\users\\paulsavu\\appdata\\local\\programs\\python\\python310\\lib\\site-packages (from litellm>=1.60.3->dspy) (1.1.1)\n",
      "Requirement already satisfied: tiktoken>=0.7.0 in c:\\users\\paulsavu\\appdata\\local\\programs\\python\\python310\\lib\\site-packages (from litellm>=1.60.3->dspy) (0.9.0)\n",
      "Requirement already satisfied: tokenizers in c:\\users\\paulsavu\\appdata\\local\\programs\\python\\python310\\lib\\site-packages (from litellm>=1.60.3->dspy) (0.21.2)\n",
      "Requirement already satisfied: MarkupSafe>=2.0 in c:\\users\\paulsavu\\appdata\\local\\programs\\python\\python310\\lib\\site-packages (from jinja2<4.0.0,>=3.1.2->litellm>=1.60.3->dspy) (3.0.2)\n",
      "Requirement already satisfied: jsonschema-specifications>=2023.03.6 in c:\\users\\paulsavu\\appdata\\local\\programs\\python\\python310\\lib\\site-packages (from jsonschema<5.0.0,>=4.22.0->litellm>=1.60.3->dspy) (2025.4.1)\n",
      "Requirement already satisfied: referencing>=0.28.4 in c:\\users\\paulsavu\\appdata\\local\\programs\\python\\python310\\lib\\site-packages (from jsonschema<5.0.0,>=4.22.0->litellm>=1.60.3->dspy) (0.36.2)\n",
      "Requirement already satisfied: rpds-py>=0.7.1 in c:\\users\\paulsavu\\appdata\\local\\programs\\python\\python310\\lib\\site-packages (from jsonschema<5.0.0,>=4.22.0->litellm>=1.60.3->dspy) (0.26.0)\n",
      "Requirement already satisfied: annotated-types>=0.6.0 in c:\\users\\paulsavu\\appdata\\local\\programs\\python\\python310\\lib\\site-packages (from pydantic>=2.0->dspy) (0.7.0)\n",
      "Requirement already satisfied: pydantic-core==2.33.2 in c:\\users\\paulsavu\\appdata\\local\\programs\\python\\python310\\lib\\site-packages (from pydantic>=2.0->dspy) (2.33.2)\n",
      "Requirement already satisfied: typing-inspection>=0.4.0 in c:\\users\\paulsavu\\appdata\\local\\programs\\python\\python310\\lib\\site-packages (from pydantic>=2.0->dspy) (0.4.1)\n",
      "Requirement already satisfied: certifi in c:\\users\\paulsavu\\appdata\\local\\programs\\python\\python310\\lib\\site-packages (from httpx>=0.23.0->litellm>=1.60.3->dspy) (2025.6.15)\n",
      "Requirement already satisfied: httpcore==1.* in c:\\users\\paulsavu\\appdata\\local\\programs\\python\\python310\\lib\\site-packages (from httpx>=0.23.0->litellm>=1.60.3->dspy) (1.0.9)\n",
      "Requirement already satisfied: h11>=0.16 in c:\\users\\paulsavu\\appdata\\local\\programs\\python\\python310\\lib\\site-packages (from httpcore==1.*->httpx>=0.23.0->litellm>=1.60.3->dspy) (0.16.0)\n",
      "Requirement already satisfied: zipp>=3.20 in c:\\users\\paulsavu\\appdata\\local\\programs\\python\\python310\\lib\\site-packages (from importlib-metadata>=6.8.0->litellm>=1.60.3->dspy) (3.23.0)\n",
      "Requirement already satisfied: distro<2,>=1.7.0 in c:\\users\\paulsavu\\appdata\\local\\programs\\python\\python310\\lib\\site-packages (from openai>=0.28.1->dspy) (1.9.0)\n",
      "Requirement already satisfied: jiter<1,>=0.4.0 in c:\\users\\paulsavu\\appdata\\local\\programs\\python\\python310\\lib\\site-packages (from openai>=0.28.1->dspy) (0.10.0)\n",
      "Requirement already satisfied: alembic>=1.5.0 in c:\\users\\paulsavu\\appdata\\local\\programs\\python\\python310\\lib\\site-packages (from optuna>=3.4.0->dspy) (1.16.4)\n",
      "Requirement already satisfied: colorlog in c:\\users\\paulsavu\\appdata\\local\\programs\\python\\python310\\lib\\site-packages (from optuna>=3.4.0->dspy) (6.9.0)\n",
      "Requirement already satisfied: sqlalchemy>=1.4.2 in c:\\users\\paulsavu\\appdata\\local\\programs\\python\\python310\\lib\\site-packages (from optuna>=3.4.0->dspy) (2.0.41)\n",
      "Requirement already satisfied: Mako in c:\\users\\paulsavu\\appdata\\local\\programs\\python\\python310\\lib\\site-packages (from alembic>=1.5.0->optuna>=3.4.0->dspy) (1.3.10)\n",
      "Requirement already satisfied: tomli in c:\\users\\paulsavu\\appdata\\local\\programs\\python\\python310\\lib\\site-packages (from alembic>=1.5.0->optuna>=3.4.0->dspy) (2.2.1)\n",
      "Requirement already satisfied: python-dateutil>=2.8.2 in c:\\users\\paulsavu\\appdata\\roaming\\python\\python310\\site-packages (from pandas>=2.1.1->dspy) (2.9.0.post0)\n",
      "Requirement already satisfied: pytz>=2020.1 in c:\\users\\paulsavu\\appdata\\local\\programs\\python\\python310\\lib\\site-packages (from pandas>=2.1.1->dspy) (2025.2)\n",
      "Requirement already satisfied: tzdata>=2022.7 in c:\\users\\paulsavu\\appdata\\local\\programs\\python\\python310\\lib\\site-packages (from pandas>=2.1.1->dspy) (2025.2)\n",
      "Requirement already satisfied: six>=1.5 in c:\\users\\paulsavu\\appdata\\roaming\\python\\python310\\site-packages (from python-dateutil>=2.8.2->pandas>=2.1.1->dspy) (1.17.0)\n",
      "Requirement already satisfied: charset_normalizer<4,>=2 in c:\\users\\paulsavu\\appdata\\local\\programs\\python\\python310\\lib\\site-packages (from requests>=2.31.0->dspy) (3.4.2)\n",
      "Requirement already satisfied: urllib3<3,>=1.21.1 in c:\\users\\paulsavu\\appdata\\local\\programs\\python\\python310\\lib\\site-packages (from requests>=2.31.0->dspy) (2.5.0)\n",
      "Requirement already satisfied: markdown-it-py>=2.2.0 in c:\\users\\paulsavu\\appdata\\local\\programs\\python\\python310\\lib\\site-packages (from rich>=13.7.1->dspy) (3.0.0)\n",
      "Requirement already satisfied: pygments<3.0.0,>=2.13.0 in c:\\users\\paulsavu\\appdata\\roaming\\python\\python310\\site-packages (from rich>=13.7.1->dspy) (2.19.2)\n",
      "Requirement already satisfied: mdurl~=0.1 in c:\\users\\paulsavu\\appdata\\local\\programs\\python\\python310\\lib\\site-packages (from markdown-it-py>=2.2.0->rich>=13.7.1->dspy) (0.1.2)\n",
      "Requirement already satisfied: greenlet>=1 in c:\\users\\paulsavu\\appdata\\local\\programs\\python\\python310\\lib\\site-packages (from sqlalchemy>=1.4.2->optuna>=3.4.0->dspy) (3.2.3)\n",
      "Requirement already satisfied: colorama in c:\\users\\paulsavu\\appdata\\roaming\\python\\python310\\site-packages (from tqdm>=4.66.1->dspy) (0.4.6)\n"
     ]
    },
    {
     "name": "stderr",
     "output_type": "stream",
     "text": [
      "\n",
      "[notice] A new release of pip is available: 25.1.1 -> 25.2\n",
      "[notice] To update, run: python.exe -m pip install --upgrade pip\n"
     ]
    }
   ],
   "source": [
    "!pip install --upgrade dspy"
   ]
  },
  {
   "cell_type": "code",
   "execution_count": 2,
   "id": "30ce5936",
   "metadata": {
    "ExecuteTime": {
     "end_time": "2025-08-12T07:24:01.542466Z",
     "start_time": "2025-08-12T07:24:01.523872Z"
    }
   },
   "outputs": [
    {
     "data": {
      "text/plain": [
       "True"
      ]
     },
     "execution_count": 2,
     "metadata": {},
     "output_type": "execute_result"
    }
   ],
   "source": [
    "import os\n",
    "from dotenv import load_dotenv\n",
    "\n",
    "# Load environment variables from .env\n",
    "load_dotenv()"
   ]
  },
  {
   "cell_type": "code",
   "execution_count": 3,
   "id": "d5f7d92b",
   "metadata": {
    "ExecuteTime": {
     "end_time": "2025-08-12T07:24:01.694816Z",
     "start_time": "2025-08-12T07:24:01.675670Z"
    }
   },
   "outputs": [],
   "source": [
    "import base64\n"
   ]
  },
  {
   "cell_type": "code",
   "execution_count": 29,
   "id": "1926fe54171aafbd",
   "metadata": {
    "ExecuteTime": {
     "end_time": "2025-08-12T07:24:01.726996Z",
     "start_time": "2025-08-12T07:24:01.707947Z"
    }
   },
   "outputs": [],
   "source": [
    "from pydantic import BaseModel\n",
    "class AnswerBlock(BaseModel):\n",
    "    answer: str\n",
    "    confidence: float\n",
    "    reasoning: str"
   ]
  },
  {
   "cell_type": "code",
   "execution_count": 30,
   "id": "e3ccab24",
   "metadata": {
    "ExecuteTime": {
     "end_time": "2025-08-12T07:24:01.771322Z",
     "start_time": "2025-08-12T07:24:01.741664Z"
    }
   },
   "outputs": [],
   "source": [
    "from dspy import Signature, InputField, OutputField\n",
    "\n",
    "class GetDiameterSignature(Signature):\n",
    "    \"\"\"Determine bolt diameter from extracted image text.\"\"\"\n",
    "\n",
    "    ocr_text: str = InputField(desc=\"Text extracted from the image\")\n",
    "    diameter: str = OutputField(desc=\"Diameter of the bolt in mm\")\n",
    "    confidence: AnswerBlock =OutputField(desc=\"Answer\")\n",
    "#    reasoning: str = OutputField(desc=\"Explanation of how the diameter was determined from text\")\n"
   ]
  },
  {
   "cell_type": "code",
   "execution_count": 31,
   "id": "a56f2c40",
   "metadata": {
    "ExecuteTime": {
     "end_time": "2025-08-12T07:24:04.815909Z",
     "start_time": "2025-08-12T07:24:01.800600Z"
    }
   },
   "outputs": [],
   "source": [
    "import dspy\n",
    "from dspy import Predict\n",
    "from PIL import Image\n",
    "import base64\n",
    "import pytesseract\n",
    "import io\n",
    "\n",
    "class GetDiameterAgent(dspy.Module):\n",
    "    def __init__(self):\n",
    "        super().__init__()\n",
    "        self.reason = Predict(GetDiameterSignature)\n",
    "\n",
    "    def extract_text(self, base64_image: str) -> str:\n",
    "        image_data = base64.b64decode(base64_image)\n",
    "        image = Image.open(io.BytesIO(image_data))\n",
    "        return pytesseract.image_to_string(image)\n",
    "\n",
    "    def forward(self, state: dict):\n",
    "        ocr_text = self.extract_text(state[\"image\"])[:8000]  # Truncate if needed\n",
    "        response = self.reason(ocr_text=ocr_text)\n",
    "\n",
    "        return {\n",
    "            \"diameter\": response.confidence\n",
    "        }\n"
   ]
  },
  {
   "cell_type": "code",
   "execution_count": 32,
   "id": "c9d7aa16f93271fa",
   "metadata": {
    "ExecuteTime": {
     "end_time": "2025-08-12T07:24:04.879245Z",
     "start_time": "2025-08-12T07:24:04.860784Z"
    }
   },
   "outputs": [],
   "source": [
    "class GetLengthSignature(Signature):\n",
    "    \"\"\"Determine bolt length from extracted image text.\"\"\"\n",
    "\n",
    "    ocr_text: str = InputField(desc=\"Text extracted from the image\")\n",
    "    length: str = OutputField(desc=\"Length of the bolt in mm\")\n",
    "    confidence: AnswerBlock =OutputField(desc=\"Answer\")\n",
    "   # reasoning: str = OutputField(desc=\"Explanation of how the diameter was determined from text\")"
   ]
  },
  {
   "cell_type": "code",
   "execution_count": 33,
   "id": "edf3a19afb8382fa",
   "metadata": {
    "ExecuteTime": {
     "end_time": "2025-08-12T07:24:04.910079Z",
     "start_time": "2025-08-12T07:24:04.891141Z"
    }
   },
   "outputs": [],
   "source": [
    "class GetLengthAgent(dspy.Module):\n",
    "    def __init__(self):\n",
    "        super().__init__()\n",
    "        self.reason = Predict(GetLengthSignature)\n",
    "\n",
    "    def extract_text(self, base64_image: str) -> str:\n",
    "        image_data = base64.b64decode(base64_image)\n",
    "        image = Image.open(io.BytesIO(image_data))\n",
    "        return pytesseract.image_to_string(image)\n",
    "\n",
    "    def forward(self, state: dict):\n",
    "        ocr_text = self.extract_text(state[\"image\"])[:8000]  # Truncate if needed\n",
    "        response = self.reason(ocr_text=ocr_text)\n",
    "\n",
    "        return {\n",
    "            \"length\": response.confidence\n",
    "        }"
   ]
  },
  {
   "cell_type": "code",
   "execution_count": 34,
   "id": "d34741efd9f69eac",
   "metadata": {
    "ExecuteTime": {
     "end_time": "2025-08-12T07:24:04.933237Z",
     "start_time": "2025-08-12T07:24:04.919267Z"
    }
   },
   "outputs": [],
   "source": [
    "class GetHeadTypeSignature(Signature):\n",
    "    \"\"\"Determine bolt head type from extracted image text. \"\"\"\n",
    "\n",
    "    ocr_text: str = InputField(desc=\"Text extracted from the image\")\n",
    "    head_type: str = OutputField(desc=\"Head type of the bolt\")\n",
    "    confidence: AnswerBlock =OutputField(desc=\"Answer\")\n",
    "   # reasoning: str = OutputField(desc=\"Explanation of how the diameter was determined from text\")"
   ]
  },
  {
   "cell_type": "code",
   "execution_count": 35,
   "id": "2fa9c04f5a0eae74",
   "metadata": {
    "ExecuteTime": {
     "end_time": "2025-08-12T07:24:04.948214Z",
     "start_time": "2025-08-12T07:24:04.943201Z"
    }
   },
   "outputs": [],
   "source": [
    "class GetHeadTypeAgent(dspy.Module):\n",
    "    def __init__(self):\n",
    "        super().__init__()\n",
    "        self.reason = Predict(GetHeadTypeSignature)\n",
    "\n",
    "    def extract_text(self, base64_image: str) -> str:\n",
    "        image_data = base64.b64decode(base64_image)\n",
    "        image = Image.open(io.BytesIO(image_data))\n",
    "        return pytesseract.image_to_string(image)\n",
    "\n",
    "    def forward(self, state: dict):\n",
    "        ocr_text = self.extract_text(state[\"image\"])[:8000]  # Truncate if needed\n",
    "        response = self.reason(ocr_text=ocr_text)\n",
    "\n",
    "        return {\n",
    "\n",
    "            \"head_type\": response.confidence\n",
    "        }"
   ]
  },
  {
   "cell_type": "code",
   "execution_count": 36,
   "id": "762dc1f1c3e75678",
   "metadata": {
    "ExecuteTime": {
     "end_time": "2025-08-12T07:24:06.735860Z",
     "start_time": "2025-08-12T07:24:04.960791Z"
    }
   },
   "outputs": [
    {
     "name": "stdout",
     "output_type": "stream",
     "text": [
      "{'diameter': AnswerBlock(answer='10', confidence=0.94, reasoning=\"The OCR text includes 'MIOX30' and 'MIO-6g', which are common OCR misreads of 'M10x30' and 'M10-6g'. 'M10' denotes a 10 mm nominal thread diameter.\")}\n",
      "{'length': AnswerBlock(answer='30', confidence=0.95, reasoning='The drawing text includes \"SCREW & WSHR M10x30 HEX\" (OCR shows as \"MIOX30\"). In standard fastener notation, M10×30 specifies a 10 mm thread diameter and 30 mm length. Therefore, the bolt length is 30 mm.')}\n",
      "{'head_type': AnswerBlock(answer='Hex', confidence=0.9, reasoning=\"The drawing text includes 'SCREW & WSHR M10X30 HEX ...' and specifies '(15 A/F NOMINAL)', which is an across-flats dimension indicative of a hexagon head.\")}\n"
     ]
    }
   ],
   "source": [
    "def main():\n",
    "    # Configure the LLM (adjust model if needed)\n",
    "    dspy.settings.configure(\n",
    "        lm=dspy.LM(model=\"gpt-5\",max_tokens=None,\n",
    "    max_completion_tokens=20_000,temperature=1)\n",
    "        #lm=dspy.LM(model=\"gpt-4o\")\n",
    "    )\n",
    "\n",
    "    # Load image and encode to base64\n",
    "    with open(\"page1_img1.png\", \"rb\") as f:\n",
    "        image_base64 = base64.b64encode(f.read()).decode(\"utf-8\")\n",
    "\n",
    "    # Construct state\n",
    "    state = {\n",
    "        \"image\": image_base64,\n",
    "        \"history\": []\n",
    "    }\n",
    "\n",
    "    # Run agent\n",
    "    agent = GetDiameterAgent()\n",
    "    result = agent.forward(state)\n",
    "\n",
    "    agent2= GetLengthAgent()\n",
    "    result2=agent2.forward(state)\n",
    "\n",
    "    agent3=GetHeadTypeAgent()\n",
    "    result3=agent3.forward(state)\n",
    "\n",
    "    # Print results\n",
    "    #print(\"Diameter:\", result[\"diameter\"])\n",
    "    #print(\"Messages:\", result[\"messages\"])\n",
    "    #print(\"Confidence\",result[\"confidence\"])\n",
    "\n",
    "    print(result)\n",
    "    print(result2)\n",
    "    print(result3)\n",
    "\n",
    "if __name__ == \"__main__\":\n",
    "    main()"
   ]
  }
 ],
 "metadata": {
  "kernelspec": {
   "display_name": "Python 3",
   "language": "python",
   "name": "python3"
  },
  "language_info": {
   "codemirror_mode": {
    "name": "ipython",
    "version": 3
   },
   "file_extension": ".py",
   "mimetype": "text/x-python",
   "name": "python",
   "nbconvert_exporter": "python",
   "pygments_lexer": "ipython3",
   "version": "3.10.11"
  }
 },
 "nbformat": 4,
 "nbformat_minor": 5
}
