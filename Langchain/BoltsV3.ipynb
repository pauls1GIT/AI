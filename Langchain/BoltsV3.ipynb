{
 "cells": [
  {
   "cell_type": "markdown",
   "id": "ae7bce33",
   "metadata": {},
   "source": []
  },
  {
   "cell_type": "code",
   "execution_count": 9,
   "id": "42f3199d",
   "metadata": {},
   "outputs": [],
   "source": [
    "!pip install -qU \\\n",
    "    python-dotenv \\\n",
    "    langchain \\\n",
    "    langchain-community \\\n",
    "    openai \\\n",
    "    langchain-openai      "
   ]
  },
  {
   "cell_type": "code",
   "id": "d54e8020",
   "metadata": {
    "ExecuteTime": {
     "end_time": "2025-08-06T07:23:29.510010Z",
     "start_time": "2025-08-06T07:23:29.456969Z"
    }
   },
   "source": [
    "from dotenv import load_dotenv\n",
    "\n",
    "load_dotenv()"
   ],
   "outputs": [
    {
     "data": {
      "text/plain": [
       "True"
      ]
     },
     "execution_count": 1,
     "metadata": {},
     "output_type": "execute_result"
    }
   ],
   "execution_count": 1
  },
  {
   "cell_type": "code",
   "id": "f6603686",
   "metadata": {
    "ExecuteTime": {
     "end_time": "2025-08-06T07:24:19.586848Z",
     "start_time": "2025-08-06T07:24:19.264260Z"
    }
   },
   "source": [
    "import fitz  # PyMuPDF\n",
    "import os"
   ],
   "outputs": [],
   "execution_count": 2
  },
  {
   "cell_type": "code",
   "execution_count": 6,
   "id": "84c6748d",
   "metadata": {},
   "outputs": [
    {
     "name": "stdout",
     "output_type": "stream",
     "text": [
      "Saved d:\\Langchain\\page1_img1.png\n"
     ]
    }
   ],
   "source": [
    "\n",
    "\n",
    "pdf_path = \"W706408.pdf\" \n",
    "pdf_dir = os.path.dirname(os.path.abspath(pdf_path))  # Get the current folder path\n",
    "\n",
    "doc = fitz.open(pdf_path)\n",
    "\n",
    "for page_index in range(len(doc)): #extracting images for the pdf page by page\n",
    "    page = doc[page_index]\n",
    "    images = page.get_images(full=True)\n",
    "\n",
    "    for img_index, img in enumerate(images):\n",
    "        xref = img[0]\n",
    "        base_image = doc.extract_image(xref)\n",
    "        image_bytes = base_image[\"image\"]\n",
    "        image_ext = base_image[\"ext\"]\n",
    "        image_filename = f\"page{page_index+1}_img{img_index+1}.{image_ext}\"\n",
    "        \n",
    "        image_path = os.path.join(pdf_dir, image_filename)\n",
    "        with open(image_path, \"wb\") as f:\n",
    "            f.write(image_bytes)\n",
    "\n",
    "        print(f\"Saved {image_path}\")\n"
   ]
  },
  {
   "cell_type": "code",
   "execution_count": 7,
   "id": "00555dbb",
   "metadata": {},
   "outputs": [],
   "source": [
    "from pydantic import BaseModel, Field\n",
    "from typing import Optional, Literal\n",
    "\n",
    "class BoltFeatures(BaseModel):\n",
    "    part_name: Optional[str] = None\n",
    "    title: Optional[str] = None\n",
    "    diameter: Optional[str] = None  \n",
    "    length: Optional[str] = None    \n",
    "    thread_pitch: Optional[str] = None\n",
    "    head_type: Literal[\"hex\", \"socket\", \"button\", \"pan\", \"flat\", \"round\"] = Field()\n",
    "    drive_type: Literal[\"phillips\", \"hex\", \"slotted\", \"torx\", \"allen\", \"pozidriv\", \"square\", \"spanner\"] = Field()\n",
    "    material: Optional[str] = None\n",
    "    coating: Optional[str] = None\n",
    "    is_threaded_full: Optional[bool] = None\n"
   ]
  },
  {
   "cell_type": "code",
   "execution_count": 8,
   "id": "34fac230",
   "metadata": {},
   "outputs": [],
   "source": [
    "from langchain.output_parsers import PydanticOutputParser\n",
    "parser = PydanticOutputParser(pydantic_object=BoltFeatures)"
   ]
  },
  {
   "cell_type": "code",
   "execution_count": 10,
   "id": "038eafa1",
   "metadata": {},
   "outputs": [
    {
     "name": "stdout",
     "output_type": "stream",
     "text": [
      "{\"part_name\":\"SCREW & WSHR M10X30 HEX P/T PLAS P\",\"title\":\"SCREW & WSHR M10X30 HEX P/T PLAS P\",\"diameter\":\"M10-6g\",\"length\":\"30±0.42\",\"thread_pitch\":null,\"head_type\":\"hex\",\"drive_type\":\"hex\",\"material\":\"SCREW WA 950 PC 8.8\",\"coating\":\"PLASTIC PATCH TO WA970\",\"is_threaded_full\":null}\n"
     ]
    }
   ],
   "source": [
    "from openai import OpenAI\n",
    "import base64\n",
    "\n",
    "client = OpenAI(api_key=os.getenv(\"OPENAI_API_KEY\"))\n",
    "\n",
    "# Load and encode image\n",
    "with open(\"page1_img1.png\", \"rb\") as image_file:\n",
    "    base64_image = base64.b64encode(image_file.read()).decode(\"utf-8\")\n",
    "\n",
    "# Define prompt\n",
    "prompt = \"\"\"\n",
    "Extract the following features from this technical drawing of a bolt.\n",
    "If the drawing uses labels instead of exact values, return those labels. In the process, please ignore /number/ format labels(e.g. /1/,/20/)\n",
    "Only return a valid JSON object.\n",
    "\"\"\"\n",
    "\n",
    "# Create chat completion with image\n",
    "response = client.chat.completions.parse(\n",
    "    model=\"gpt-4o\",  \n",
    "    messages=[\n",
    "        {\"role\": \"system\", \"content\": \"You are an expert in mechanical drawing interpretation.\"},\n",
    "        {\n",
    "            \"role\": \"user\",\n",
    "            \"content\": [\n",
    "                {\"type\": \"text\", \"text\": prompt},\n",
    "                {\n",
    "                    \"type\": \"image_url\",\n",
    "                    \"image_url\": {\n",
    "                        \"url\": f\"data:image/jpeg;base64,{base64_image}\"\n",
    "                    }\n",
    "                },\n",
    "            ],\n",
    "        }\n",
    "    ],\n",
    "    response_format=BoltFeatures,\n",
    "    max_tokens=1000,\n",
    "    temperature=0.0\n",
    ")\n",
    "\n",
    "print(response.choices[0].message.content)\n"
   ]
  }
 ],
 "metadata": {
  "kernelspec": {
   "display_name": "Python 3",
   "language": "python",
   "name": "python3"
  },
  "language_info": {
   "codemirror_mode": {
    "name": "ipython",
    "version": 3
   },
   "file_extension": ".py",
   "mimetype": "text/x-python",
   "name": "python",
   "nbconvert_exporter": "python",
   "pygments_lexer": "ipython3",
   "version": "3.10.11"
  }
 },
 "nbformat": 4,
 "nbformat_minor": 5
}
