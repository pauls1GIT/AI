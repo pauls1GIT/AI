{
 "cells": [
  {
   "cell_type": "markdown",
   "id": "ae7bce33",
   "metadata": {},
   "source": []
  },
  {
   "cell_type": "code",
   "execution_count": 9,
   "id": "42f3199d",
   "metadata": {},
   "outputs": [],
   "source": [
    "!pip install -qU \\\n",
    "    python-dotenv \\\n",
    "    langchain \\\n",
    "    langchain-community \\\n",
    "    openai \\\n",
    "    langchain-openai      "
   ]
  },
  {
   "cell_type": "code",
   "execution_count": 2,
   "id": "d54e8020",
   "metadata": {},
   "outputs": [
    {
     "data": {
      "text/plain": [
       "True"
      ]
     },
     "execution_count": 2,
     "metadata": {},
     "output_type": "execute_result"
    }
   ],
   "source": [
    "from dotenv import load_dotenv\n",
    "\n",
    "load_dotenv()"
   ]
  },
  {
   "cell_type": "code",
   "execution_count": 3,
   "id": "f6603686",
   "metadata": {},
   "outputs": [],
   "source": [
    "import fitz  # PyMuPDF\n",
    "import os"
   ]
  },
  {
   "cell_type": "code",
   "execution_count": 4,
   "id": "00555dbb",
   "metadata": {},
   "outputs": [],
   "source": [
    "from pydantic import BaseModel, Field\n",
    "from typing import Optional, Literal\n",
    "\n",
    "class AnswerBlock(BaseModel):\n",
    "    answer: str\n",
    "    confidence: float\n",
    "    reasoning: str\n",
    "\n",
    "\n",
    "class BoltFeatures(BaseModel):\n",
    "    part_name: Optional[str] = None\n",
    "    title: Optional[str] = None\n",
    "    diameter: AnswerBlock = None  \n",
    "    length: Optional[str] = None    \n",
    "    thread_pitch: Optional[str] = None\n",
    "    head_type: AnswerBlock = Field()\n",
    "    drive_type: Literal[\"phillips\", \"hex\", \"slotted\", \"torx\", \"allen\", \"pozidriv\", \"square\", \"spanner\"] = Field()\n",
    "    material: Optional[str] = None\n",
    "    coating: Optional[str] = None\n",
    "    is_threaded_full: Optional[bool] = None\n"
   ]
  },
  {
   "cell_type": "code",
   "execution_count": 5,
   "id": "34fac230",
   "metadata": {},
   "outputs": [],
   "source": [
    "from langchain.output_parsers import PydanticOutputParser\n",
    "parser = PydanticOutputParser(pydantic_object=BoltFeatures)"
   ]
  },
  {
   "cell_type": "code",
   "execution_count": 6,
   "id": "1fb603f2",
   "metadata": {},
   "outputs": [],
   "source": [
    "%%capture --no-stderr\n",
    "%pip install -U langgraph langchain_community langchain_openai langchain_experimental langchain-chroma pypdf sentence-transformers\n"
   ]
  },
  {
   "cell_type": "code",
   "execution_count": 7,
   "id": "4b284a1c",
   "metadata": {},
   "outputs": [],
   "source": [
    "import openai\n",
    "import os\n",
    "import base64\n",
    "from openai import OpenAI\n",
    "from typing import Literal\n",
    "from typing_extensions import TypedDict\n",
    "from langgraph.graph import MessagesState, START, END\n",
    "from langgraph.types import Command\n",
    "from langchain_openai import ChatOpenAI"
   ]
  },
  {
   "cell_type": "code",
   "execution_count": 8,
   "id": "fe672f97",
   "metadata": {},
   "outputs": [],
   "source": [
    "client = OpenAI(api_key=os.getenv(\"OPENAI_API_KEY\"))"
   ]
  },
  {
   "cell_type": "code",
   "execution_count": 9,
   "id": "29347a1a",
   "metadata": {},
   "outputs": [],
   "source": [
    "import base64\n",
    "\n",
    "def load_png_as_base64(path: str) -> str:\n",
    "    with open(path, \"rb\") as image_file:\n",
    "        encoded_string = base64.b64encode(image_file.read()).decode(\"utf-8\")\n",
    "    return encoded_string\n"
   ]
  },
  {
   "cell_type": "code",
   "execution_count": 10,
   "id": "323d21f7",
   "metadata": {},
   "outputs": [],
   "source": [
    "from langchain_openai import ChatOpenAI\n",
    "\n",
    "# Use GPT-4o or gpt-4-vision-preview for image support\n",
    "llm = ChatOpenAI(model=\"gpt-4o\", temperature=0.0)\n"
   ]
  },
  {
   "cell_type": "code",
   "execution_count": 11,
   "id": "9b542168",
   "metadata": {},
   "outputs": [],
   "source": [
    "from langchain_core.messages import BaseMessage, HumanMessage\n",
    "from typing_extensions import TypedDict\n",
    "from typing import Annotated, List\n",
    "import operator\n",
    "\n",
    "class BoltState(TypedDict):\n",
    "    messages: Annotated[list[BaseMessage], operator.add]\n",
    "    image: str\n",
    "    diameter: str\n",
    "    head_type: str\n",
    "    length: str\n",
    "\n",
    "def add_message(state: BoltState, message: BaseMessage):\n",
    "    return state.get(\"messages\", []) + [message]\n"
   ]
  },
  {
   "cell_type": "code",
   "execution_count": 12,
   "id": "0fe78bc7",
   "metadata": {},
   "outputs": [],
   "source": [
    "def get_diameter(state: BoltState):\n",
    "    message = HumanMessage(content=[\n",
    "        {\"type\": \"text\", \"text\": \"From the image below,determine the **diameter** of the bolt (e.g., M10 = 10mm nominal). \"\n",
    "    \"Explain how it was derived from the image, such as notation like 'M10', 'Ø', or dimension labels.\"\n",
    "    \"Return your answer in this JSON format:\\n\\n\"\n",
    "    '{\\n'\n",
    "    '  \"answer\": \"<length in mm>\",\\n'\n",
    "    '  \"confidence\": <float between 0 and 1>,\\n'\n",
    "    '  \"reasoning\": \"<how you arrived at the answer>\"\\n'\n",
    "    '}\\n\\n'\n",
    "    \"Rate your confidence based on clarity of the dimension, presence of labels, and whether your interpretation might be ambiguous.\"},\n",
    "        {\"type\": \"image_url\", \"image_url\": {\"url\": \"data:image/png;base64,\" + state[\"image\"]}}\n",
    "    ])\n",
    "    response = llm.invoke([message])\n",
    "    return {\n",
    "        \n",
    "        \"messages\": add_message(state, response),\n",
    "        \"diameter\": response.content.strip()\n",
    "    }\n",
    "\n",
    "def get_head_type(state: BoltState):\n",
    "    message = HumanMessage(content=[\n",
    "        {\"type\": \"text\", \"text\": \"From the technical drawing, identify the **head type** of the bolt (e.g., hex, socket, pan, etc.). \"\n",
    "    \"Explain how it was derived from the image.\"\n",
    "    \"Return your answer in this JSON format:\\n\\n\"\n",
    "    '{\\n'\n",
    "    '  \"answer\": \"\",\\n'\n",
    "    '  \"confidence\": <float between 0 and 1>,\\n'\n",
    "    '  \"reasoning\": \"<how you arrived at the answer>\"\\n'\n",
    "    '}\\n\\n'\n",
    "    \"Rate your confidence based on clarity of the dimension, presence of labels, and whether your interpretation might be ambiguous.\"},\n",
    "        {\"type\": \"image_url\", \"image_url\": {\"url\": \"data:image/png;base64,\" + state[\"image\"]}}\n",
    "    ])\n",
    "    response = llm.invoke([message])\n",
    "    return {\n",
    "        \n",
    "        \"messages\": add_message(state, response),\n",
    "        \"head_type\": response.content.strip()\n",
    "    }\n",
    "\n",
    "def get_length(state: BoltState):\n",
    "    message = HumanMessage(content=[\n",
    "        {\"type\": \"text\", \"text\": \"From the image below, extract the **length of the bolt**.\\n\\n\"\n",
    "    \"Return your answer in this JSON format:\\n\\n\"\n",
    "    '{\\n'\n",
    "    '  \"answer\": \"<length in mm>\",\\n'\n",
    "    '  \"confidence\": <float between 0 and 1>,\\n'\n",
    "    '  \"reasoning\": \"<how you arrived at the answer>\"\\n'\n",
    "    '}\\n\\n'\n",
    "    \"Rate your confidence based on clarity of the dimension, presence of labels, and whether your interpretation might be ambiguous.\"},\n",
    "        {\"type\": \"image_url\", \"image_url\": {\"url\": \"data:image/png;base64,\" + state[\"image\"]}}\n",
    "    ])\n",
    "    response = llm.invoke([message])\n",
    "    return {\n",
    "        \n",
    "        \"messages\": add_message(state, response),\n",
    "        \"length\": response.content.strip()\n",
    "    }\n"
   ]
  },
  {
   "cell_type": "code",
   "execution_count": 13,
   "id": "ba18f614",
   "metadata": {},
   "outputs": [
    {
     "data": {
      "text/plain": [
       "' builder = StateGraph(BoltState)\\n\\nbuilder.set_entry_point(\"get_diameter\")\\nbuilder.add_node(\"get_diameter\", get_diameter)\\nbuilder.add_node(\"get_head_type\", get_head_type)\\nbuilder.add_node(\"get_length\", get_length)\\n\\n# Chain agents\\nbuilder.add_edge(\"get_diameter\", \"get_head_type\")\\nbuilder.add_edge(\"get_head_type\", \"get_length\")\\nbuilder.add_edge(\"get_length\", END)\\n\\ngraph = builder.compile()\\n'"
      ]
     },
     "execution_count": 13,
     "metadata": {},
     "output_type": "execute_result"
    }
   ],
   "source": [
    "from langgraph.graph import StateGraph, END\n",
    "#disable cels 20->23 to use this route\n",
    "\"\"\" builder = StateGraph(BoltState)\n",
    "\n",
    "builder.set_entry_point(\"get_diameter\")\n",
    "builder.add_node(\"get_diameter\", get_diameter)\n",
    "builder.add_node(\"get_head_type\", get_head_type)\n",
    "builder.add_node(\"get_length\", get_length)\n",
    "\n",
    "# Chain agents\n",
    "builder.add_edge(\"get_diameter\", \"get_head_type\")\n",
    "builder.add_edge(\"get_head_type\", \"get_length\")\n",
    "builder.add_edge(\"get_length\", END)\n",
    "\n",
    "graph = builder.compile()\n",
    "\"\"\""
   ]
  },
  {
   "cell_type": "code",
   "execution_count": 14,
   "id": "6878704c",
   "metadata": {},
   "outputs": [],
   "source": [
    "#disable cel15 to use this route\n",
    "def router_node(state: BoltState): \n",
    "    return state\n"
   ]
  },
  {
   "cell_type": "code",
   "execution_count": 15,
   "id": "413a6518",
   "metadata": {},
   "outputs": [],
   "source": [
    "def routing_logic(state: BoltState):\n",
    "    return [\"get_diameter\", \"get_head_type\", \"get_length\"]"
   ]
  },
  {
   "cell_type": "code",
   "execution_count": 16,
   "id": "aacdb89f",
   "metadata": {},
   "outputs": [],
   "source": [
    "def join_results(state: BoltState) -> BoltState:\n",
    "    print(\"Merging final state\")\n",
    "    return state\n"
   ]
  },
  {
   "cell_type": "code",
   "execution_count": 17,
   "id": "1fdcc6b0",
   "metadata": {},
   "outputs": [],
   "source": [
    "from langgraph.graph import StateGraph, END\n",
    "\n",
    "def build_graph():\n",
    "    builder = StateGraph(BoltState)\n",
    "    \n",
    "    builder.add_node(\"router\", router_node)\n",
    "    builder.set_entry_point(\"router\")\n",
    "    builder.add_conditional_edges(\"router\", routing_logic)\n",
    "\n",
    "    builder.add_node(\"get_diameter\", get_diameter)\n",
    "    builder.add_node(\"get_head_type\", get_head_type)\n",
    "    builder.add_node(\"get_length\", get_length)\n",
    "    builder.add_node(\"join\", join_results)\n",
    "\n",
    "    builder.add_edge(\"get_diameter\", \"join\")\n",
    "    builder.add_edge(\"get_head_type\", \"join\")\n",
    "    builder.add_edge(\"get_length\", \"join\")\n",
    "    builder.add_edge(\"join\", END)\n",
    "\n",
    "    return builder.compile()\n"
   ]
  },
  {
   "cell_type": "code",
   "execution_count": 27,
   "id": "4778c8df",
   "metadata": {},
   "outputs": [],
   "source": [
    "from IPython.display import Image, display\n",
    "\n",
    "try:\n",
    "    display(Image(graph.get_graph().draw_mermaid_png()))\n",
    "except Exception:\n",
    "    # You can put your exception handling code here\n",
    "    pass"
   ]
  },
  {
   "cell_type": "code",
   "execution_count": 19,
   "id": "1676039c",
   "metadata": {},
   "outputs": [
    {
     "data": {
      "text/plain": [
       "'if __name__ == \"__main__\":\\n    #Convert your PNG to base64\\n    image_b64 = load_png_as_base64(\"102.jpg\")  # your image path here\\n\\n    # Initial state\\n    input_state = {\\n        \"messages\": [],\\n        \"image\": image_b64,\\n        \"diameter\": \"\",\\n        \"head_type\": \"\",\\n        \"length\": \"\"\\n    }\\n\\n    result = graph.invoke(input_state)\\n\\n    print(\"\\n Diameter:\", result[\"diameter\"])\\n    print(\"Head Type:\", result[\"head_type\"])\\n    print(\"Length:\", result[\"length\"])\\n'"
      ]
     },
     "execution_count": 19,
     "metadata": {},
     "output_type": "execute_result"
    }
   ],
   "source": [
    "\"\"\"if __name__ == \"__main__\":\n",
    "    #Convert your PNG to base64\n",
    "    image_b64 = load_png_as_base64(\"102.jpg\")  # your image path here\n",
    "\n",
    "    # Initial state\n",
    "    input_state = {\n",
    "        \"messages\": [],\n",
    "        \"image\": image_b64,\n",
    "        \"diameter\": \"\",\n",
    "        \"head_type\": \"\",\n",
    "        \"length\": \"\"\n",
    "    }\n",
    "\n",
    "    result = graph.invoke(input_state)\n",
    "\n",
    "    print(\"\\n Diameter:\", result[\"diameter\"])\n",
    "    print(\"Head Type:\", result[\"head_type\"])\n",
    "    print(\"Length:\", result[\"length\"])\n",
    "\"\"\""
   ]
  },
  {
   "cell_type": "code",
   "execution_count": 26,
   "id": "09002cf0",
   "metadata": {},
   "outputs": [
    {
     "name": "stdout",
     "output_type": "stream",
     "text": [
      "Merging final state\n",
      "Final state: ```json\n",
      "{\n",
      "  \"answer\": \"socket\",\n",
      "  \"confidence\": 0.9,\n",
      "  \"reasoning\": \"The technical drawing shows a bolt with a recessed hexagonal shape on the head, which is characteristic of a socket head. The presence of a hexagonal recess is a clear indicator of a socket head type. The drawing includes dimensions and angles that are typical for socket head bolts, and the clarity of the hexagonal shape in the top view supports this identification.\"\n",
      "}\n",
      "```\n",
      "Final state: ```json\n",
      "{\n",
      "  \"answer\": \"12\",\n",
      "  \"confidence\": 0.9,\n",
      "  \"reasoning\": \"The diameter of the bolt is indicated by the notation 'ØD' in the technical drawing. The dimension for 'ØD' is labeled as 12, which suggests a nominal diameter of 12mm. The clarity of the dimension and the standard notation used contribute to a high confidence level.\"\n",
      "}\n",
      "```\n",
      "Final state: ```json\n",
      "{\n",
      "  \"answer\": \"The length is not explicitly labeled in the image.\",\n",
      "  \"confidence\": 0.5,\n",
      "  \"reasoning\": \"The image contains various dimensions and labels, but the overall length of the bolt is not clearly marked. The presence of multiple dimensions and technical details makes it difficult to determine the exact length without a specific label.\"\n",
      "}\n",
      "```\n"
     ]
    }
   ],
   "source": [
    "def main():\n",
    "    image_b64 = load_png_as_base64(\"102.jpg\")\n",
    "    graph = build_graph()\n",
    "    input_state = {\n",
    "        \"messages\": [],\n",
    "        \"image\": image_b64,\n",
    "        \"diameter\": \"\",\n",
    "        \"head_type\": \"\",\n",
    "        \"length\": \"\"\n",
    "    } \n",
    "    # initial empty state\n",
    "    final_state= graph.invoke(input_state)\n",
    "    print(\"Final state:\", final_state.get(\"head_type\"))\n",
    "    print(\"Final state:\", final_state.get(\"diameter\"))\n",
    "    print(\"Final state:\", final_state.get(\"length\"))\n",
    "    \n",
    "\n",
    "if __name__ == \"__main__\":\n",
    "    main()"
   ]
  }
 ],
 "metadata": {
  "kernelspec": {
   "display_name": "Python 3",
   "language": "python",
   "name": "python3"
  },
  "language_info": {
   "codemirror_mode": {
    "name": "ipython",
    "version": 3
   },
   "file_extension": ".py",
   "mimetype": "text/x-python",
   "name": "python",
   "nbconvert_exporter": "python",
   "pygments_lexer": "ipython3",
   "version": "3.10.11"
  }
 },
 "nbformat": 4,
 "nbformat_minor": 5
}
