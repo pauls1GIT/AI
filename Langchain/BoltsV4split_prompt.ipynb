{
 "cells": [
  {
   "cell_type": "markdown",
   "id": "ae7bce33",
   "metadata": {},
   "source": []
  },
  {
   "cell_type": "code",
   "execution_count": 9,
   "id": "42f3199d",
   "metadata": {},
   "outputs": [],
   "source": [
    "!pip install -qU \\\n",
    "    python-dotenv \\\n",
    "    langchain \\\n",
    "    langchain-community \\\n",
    "    openai \\\n",
    "    langchain-openai      "
   ]
  },
  {
   "cell_type": "code",
   "execution_count": 1,
   "id": "d54e8020",
   "metadata": {},
   "outputs": [
    {
     "data": {
      "text/plain": [
       "True"
      ]
     },
     "execution_count": 1,
     "metadata": {},
     "output_type": "execute_result"
    }
   ],
   "source": [
    "from dotenv import load_dotenv\n",
    "\n",
    "load_dotenv()"
   ]
  },
  {
   "cell_type": "code",
   "execution_count": 5,
   "id": "f6603686",
   "metadata": {},
   "outputs": [],
   "source": [
    "import fitz  # PyMuPDF\n",
    "import os"
   ]
  },
  {
   "cell_type": "code",
   "execution_count": null,
   "id": "84c6748d",
   "metadata": {},
   "outputs": [
    {
     "name": "stdout",
     "output_type": "stream",
     "text": [
      "Saved d:\\Langchain\\page1_img1.png\n"
     ]
    }
   ],
   "source": [
    "pdf_path = \"W706408.pdf\" \n",
    "pdf_dir = os.path.dirname(os.path.abspath(pdf_path))  # Get the current folder path\n",
    "\n",
    "doc = fitz.open(pdf_path)\n",
    "\n",
    "for page_index in range(len(doc)): #extracting images for the pdf page by page\n",
    "    page = doc[page_index]\n",
    "    images = page.get_images(full=True)\n",
    "\n",
    "    for img_index, img in enumerate(images):\n",
    "        xref = img[0]\n",
    "        base_image = doc.extract_image(xref)\n",
    "        image_bytes = base_image[\"image\"]\n",
    "        image_ext = base_image[\"ext\"]\n",
    "        image_filename = f\"page{page_index+1}_img{img_index+1}.{image_ext}\"\n",
    "        \n",
    "        image_path = os.path.join(pdf_dir, image_filename)\n",
    "        with open(image_path, \"wb\") as f:\n",
    "            f.write(image_bytes)\n",
    "\n",
    "        print(f\"Saved {image_path}\")\n"
   ]
  },
  {
   "cell_type": "code",
   "execution_count": 7,
   "id": "00555dbb",
   "metadata": {},
   "outputs": [],
   "source": [
    "from pydantic import BaseModel, Field\n",
    "from typing import Optional, Literal\n",
    "\n",
    "class BoltFeatures(BaseModel):\n",
    "    part_name: Optional[str] = None\n",
    "    title: Optional[str] = None\n",
    "    diameter: Optional[str] = None  \n",
    "    length: Optional[str] = None    \n",
    "    thread_pitch: Optional[str] = None\n",
    "    head_type: Literal[\"hex\", \"socket\", \"button\", \"pan\", \"flat\", \"round\"] = Field()\n",
    "    drive_type: Literal[\"phillips\", \"hex\", \"slotted\", \"torx\", \"allen\", \"pozidriv\", \"square\", \"spanner\"] = Field()\n",
    "    material: Optional[str] = None\n",
    "    coating: Optional[str] = None\n",
    "    is_threaded_full: Optional[bool] = None\n"
   ]
  },
  {
   "cell_type": "code",
   "execution_count": 8,
   "id": "34fac230",
   "metadata": {},
   "outputs": [],
   "source": [
    "from langchain.output_parsers import PydanticOutputParser\n",
    "parser = PydanticOutputParser(pydantic_object=BoltFeatures)"
   ]
  },
  {
   "cell_type": "code",
   "execution_count": 7,
   "id": "4b284a1c",
   "metadata": {},
   "outputs": [],
   "source": [
    "import openai\n",
    "import os"
   ]
  },
  {
   "cell_type": "code",
   "execution_count": 9,
   "id": "fe672f97",
   "metadata": {},
   "outputs": [],
   "source": [
    "import base64\n",
    "from openai import OpenAI\n",
    "\n",
    "client = OpenAI(api_key=os.getenv(\"OPENAI_API_KEY\"))\n",
    "# Make sure your API key is set via env or explicitly here\n",
    "\n",
    "def analyze_with_gpt4v(image_path: str, focus_prompt: str) -> str:\n",
    "    with open(image_path, \"rb\") as f:\n",
    "        image_data = f.read()\n",
    "    base64_image = base64.b64encode(image_data).decode(\"utf-8\")\n",
    "\n",
    "    response = client.chat.completions.create(\n",
    "        model=\"gpt-4o\",\n",
    "        messages=[\n",
    "            {\"role\": \"system\", \"content\": \"You are an expert in mechanical drawing interpretation.\"},\n",
    "            {\n",
    "                \"role\": \"user\",\n",
    "                \"content\": [\n",
    "                    {\"type\": \"text\", \"text\": focus_prompt},\n",
    "                    {\n",
    "                        \"type\": \"image_url\",\n",
    "                        \"image_url\": {\n",
    "                            \"url\": f\"data:image/png;base64,{base64_image}\"\n",
    "                        },\n",
    "                    },\n",
    "                ],\n",
    "            }\n",
    "        ],\n",
    "        max_tokens=1000,\n",
    "        temperature=0.0\n",
    "        \n",
    "    )\n",
    "\n",
    "    return response.choices[0].message.content.strip()\n"
   ]
  },
  {
   "cell_type": "code",
   "execution_count": 1,
   "id": "5e3bf4e9",
   "metadata": {},
   "outputs": [],
   "source": [
    "def run_length_agent(image_path: str) -> str:\n",
    "    prompt = (\n",
    "    \"From the image below, extract the **length of the bolt**.\\n\\n\"\n",
    "    \"Return your answer in this JSON format:\\n\\n\"\n",
    "    '{\\n'\n",
    "    '  \"answer\": \"<length in mm>\",\\n'\n",
    "    '  \"confidence\": <float between 0 and 1>,\\n'\n",
    "    '  \"reasoning\": \"<how you arrived at the answer>\"\\n'\n",
    "    '}\\n\\n'\n",
    "    \"Rate your confidence based on clarity of the dimension, presence of labels, and whether your interpretation might be ambiguous.\"\n",
    "    )\n",
    "    return analyze_with_gpt4v(image_path, prompt)\n"
   ]
  },
  {
   "cell_type": "code",
   "execution_count": 2,
   "id": "206d23e1",
   "metadata": {},
   "outputs": [],
   "source": [
    "def run_diameter_agent(image_path: str) -> str:\n",
    "    prompt = (\n",
    "    \"From the image below,determine the **diameter** of the bolt (e.g., M10 = 10mm nominal). \"\n",
    "    \"Explain how it was derived from the image, such as notation like 'M10', 'Ø', or dimension labels.\"\n",
    "    \"Return your answer in this JSON format:\\n\\n\"\n",
    "    '{\\n'\n",
    "    '  \"answer\": \"<length in mm>\",\\n'\n",
    "    '  \"confidence\": <float between 0 and 1>,\\n'\n",
    "    '  \"reasoning\": \"<how you arrived at the answer>\"\\n'\n",
    "    '}\\n\\n'\n",
    "    \"Rate your confidence based on clarity of the dimension, presence of labels, and whether your interpretation might be ambiguous.\"\n",
    "    )\n",
    "    return analyze_with_gpt4v(image_path, prompt)\n"
   ]
  },
  {
   "cell_type": "code",
   "execution_count": 12,
   "id": "99994c26",
   "metadata": {},
   "outputs": [],
   "source": [
    "def run_head_type_agent(image_path: str) -> str:\n",
    "    prompt = (\n",
    "    \"From the technical drawing, identify the **head type** of the bolt (e.g., hex, socket, pan, etc.). \"\n",
    "    \"Explain how it was derived from the image.\"\n",
    "    \"Return your answer in this JSON format:\\n\\n\"\n",
    "    '{\\n'\n",
    "    '  \"answer\": \"\",\\n'\n",
    "    '  \"confidence\": <float between 0 and 1>,\\n'\n",
    "    '  \"reasoning\": \"<how you arrived at the answer>\"\\n'\n",
    "    '}\\n\\n'\n",
    "    \"Rate your confidence based on clarity of the dimension, presence of labels, and whether your interpretation might be ambiguous.\"\n",
    "    )\n",
    "    return analyze_with_gpt4v(image_path, prompt)\n"
   ]
  },
  {
   "cell_type": "code",
   "execution_count": 14,
   "id": "defe6768",
   "metadata": {},
   "outputs": [
    {
     "name": "stdout",
     "output_type": "stream",
     "text": [
      "Analyzing bolt drawing with vision agents...\n",
      "\n",
      "Final Bolt Report\n",
      "\n",
      "Length:\n",
      " ```json\n",
      "{\n",
      "  \"answer\": \"Not specified\",\n",
      "  \"confidence\": 0.5,\n",
      "  \"reasoning\": \"The drawing does not explicitly label the total length of the bolt. It provides various dimensions such as grip length, thread length, and other specific measurements, but the overall length is not directly indicated. The confidence is moderate due to the lack of a clear label for the total length.\"\n",
      "}\n",
      "``` \n",
      "\n",
      "Diameter:\n",
      " ```json\n",
      "{\n",
      "  \"answer\": \"D\",\n",
      "  \"confidence\": 0.8,\n",
      "  \"reasoning\": \"The diameter of the bolt is indicated by the notation 'ØD' in the side view of the drawing. This notation is typically used to specify the nominal diameter of a bolt. However, the exact numerical value is not visible in the image, so the confidence is moderate.\"\n",
      "}\n",
      "``` \n",
      "\n",
      "Head Type:\n",
      " ```json\n",
      "{\n",
      "  \"answer\": \"socket\",\n",
      "  \"confidence\": 0.9,\n",
      "  \"reasoning\": \"The technical drawing shows a bolt with a recessed hexagonal shape on the head, which is characteristic of a socket head. The presence of a hexagonal recess is a clear indicator of a socket head type. The drawing includes a top view and a cross-section that clearly depict this feature, leading to a high confidence level.\"\n",
      "}\n",
      "``` \n",
      "\n"
     ]
    }
   ],
   "source": [
    "image_path = \"102.jpg\"\n",
    "\n",
    "def run_all_agents(image_path):\n",
    "    print(\"Analyzing bolt drawing with vision agents...\\n\")\n",
    "\n",
    "    length = run_length_agent(image_path)\n",
    "    diameter = run_diameter_agent(image_path)\n",
    "    head_type = run_head_type_agent(image_path)\n",
    "\n",
    "    print(\"Final Bolt Report\\n\")\n",
    "    print(\"Length:\\n\", length, \"\\n\")\n",
    "    print(\"Diameter:\\n\", diameter, \"\\n\")\n",
    "    print(\"Head Type:\\n\", head_type, \"\\n\")\n",
    "\n",
    "\n",
    "run_all_agents(image_path)"
   ]
  }
 ],
 "metadata": {
  "kernelspec": {
   "display_name": "Python 3",
   "language": "python",
   "name": "python3"
  },
  "language_info": {
   "codemirror_mode": {
    "name": "ipython",
    "version": 3
   },
   "file_extension": ".py",
   "mimetype": "text/x-python",
   "name": "python",
   "nbconvert_exporter": "python",
   "pygments_lexer": "ipython3",
   "version": "3.10.11"
  }
 },
 "nbformat": 4,
 "nbformat_minor": 5
}
